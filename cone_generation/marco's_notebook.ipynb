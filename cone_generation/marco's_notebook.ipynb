{
 "cells": [
  {
   "cell_type": "markdown",
   "id": "afdfd374-f99d-43a3-b1df-1b054e909ffc",
   "metadata": {
    "tags": []
   },
   "source": [
    "# Synthetized Cone Data Generation"
   ]
  },
  {
   "cell_type": "markdown",
   "id": "e391c7d6-ef77-4f90-a6d0-107798c86a1d",
   "metadata": {
    "tags": []
   },
   "source": [
    "### Imports"
   ]
  },
  {
   "cell_type": "code",
   "execution_count": 1,
   "id": "25d60f7e-5d4c-45ba-af7d-27e486fb637c",
   "metadata": {},
   "outputs": [],
   "source": [
    "import numpy as np\n",
    "from mpl_toolkits.mplot3d import Axes3D\n",
    "from scipy.linalg import norm\n",
    "import pylab as plt"
   ]
  },
  {
   "cell_type": "markdown",
   "id": "738da7b1-3c10-4c8e-88a6-88b689aa2670",
   "metadata": {
    "tags": []
   },
   "source": [
    "### Utils"
   ]
  },
  {
   "cell_type": "code",
   "execution_count": 2,
   "id": "addb2385-c0ea-46b3-abc6-094cdaed6f35",
   "metadata": {},
   "outputs": [],
   "source": [
    "def plot_cone(X, Y, Z, wireframe=True, points=30, axis=False):\n",
    "    fig = plt.figure()\n",
    "    ax = fig.add_subplot(111, projection='3d')\n",
    "\n",
    "    if wireframe:\n",
    "        ax.plot_wireframe(X, Y, Z, rcount=points, ccount=points)\n",
    "    else:\n",
    "        colors =plt.cm.gray( (X-X.min())/float((X-X.min()).max()) )\n",
    "        ax.plot_surface(X, Y, Z, rcount=points, ccount=points, facecolors=colors, shade=False)\n",
    "    \n",
    "    if not axis:\n",
    "        ax.axis('off')\n",
    "    else:\n",
    "        ax.set_xlabel(\"x\")\n",
    "        ax.set_ylabel(\"y\")\n",
    "        ax.set_zlabel(\"z\")\n",
    "    \n",
    "    ax.view_init(elev=10., azim=0)\n",
    "    \n",
    "    plt.show()"
   ]
  },
  {
   "cell_type": "code",
   "execution_count": 3,
   "id": "1bfe0d07-7c3e-4552-ac89-2d61add2a989",
   "metadata": {},
   "outputs": [],
   "source": [
    "# check for possibilities of denoting depth with colors (grayscale and depth)\n",
    "# already used surface_colors but it's not really evident and it may need to depend on the pov (car relative position)"
   ]
  },
  {
   "cell_type": "markdown",
   "id": "66604ac2-24d2-4795-8b32-3e4b11e48853",
   "metadata": {},
   "source": [
    "### Cone Generation "
   ]
  },
  {
   "cell_type": "markdown",
   "id": "4b85b568-4235-4820-8ba8-5aa1297da044",
   "metadata": {
    "tags": []
   },
   "source": [
    "#### Methods"
   ]
  },
  {
   "cell_type": "code",
   "execution_count": 4,
   "id": "a145dee3-5e47-4c4d-bcd8-725ca17bc48b",
   "metadata": {},
   "outputs": [],
   "source": [
    "def truncated_cone(p0, p1, R0, R1):\n",
    "    \"\"\"\n",
    "    Based on https://stackoverflow.com/a/39823124/190597 (astrokeat)\n",
    "    \"\"\"\n",
    "    # vector in direction of axis\n",
    "    v = p1 - p0\n",
    "    # find magnitude of vector\n",
    "    mag = norm(v)\n",
    "    # unit vector in direction of axis\n",
    "    v = v / mag\n",
    "    # make some vector not in the same direction as v\n",
    "    not_v = np.array([1, 1, 0])\n",
    "    if (v == not_v).all():\n",
    "        not_v = np.array([0, 1, 0])\n",
    "    # make vector perpendicular to v\n",
    "    n1 = np.cross(v, not_v)\n",
    "    # print n1,'\\t',norm(n1)\n",
    "    # normalize n1\n",
    "    n1 /= norm(n1)\n",
    "    # make unit vector perpendicular to v and n1\n",
    "    n2 = np.cross(v, n1)\n",
    "    # surface ranges over t from 0 to length of axis and 0 to 2*pi\n",
    "    n = 80\n",
    "    t = np.linspace(0, mag, n)\n",
    "    theta = np.linspace(0, 2 * np.pi, n)\n",
    "    # use meshgrid to make 2d arrays\n",
    "    t, theta = np.meshgrid(t, theta)\n",
    "    R = np.linspace(R0, R1, n)\n",
    "    # generate coordinates for surface\n",
    "    X, Y, Z = [p0[i] + v[i] * t + R *\n",
    "               np.sin(theta) * n1[i] + R * np.cos(theta) * n2[i] for i in [0, 1, 2]]\n",
    "    return X, Y, Z\n",
    "    # ax.plot_surface(X, Y, Z, color=color, linewidth=0, antialiased=False)"
   ]
  },
  {
   "cell_type": "code",
   "execution_count": 5,
   "id": "95a391ef-654a-41b0-b40a-ac154e561ff2",
   "metadata": {},
   "outputs": [],
   "source": [
    "def generate_plot(point_base, point_tip, range_base, range_tip, wireframe=False, axis=False):\n",
    "    X, Y, Z = truncated_cone(point_base, point_tip, range_base, range_tip)\n",
    "    plot_cone(X, Y, Z, wireframe=wireframe, axis=axis)"
   ]
  },
  {
   "cell_type": "markdown",
   "id": "75a8499f-020f-4c48-9415-7bba504217e7",
   "metadata": {},
   "source": [
    "#### Demo"
   ]
  },
  {
   "cell_type": "code",
   "execution_count": 6,
   "id": "3b84dd15-7022-4dcf-ab3a-de16b3845784",
   "metadata": {},
   "outputs": [],
   "source": [
    "point_base = np.array([0, 0, 0]) # point from the base\n",
    "point_tip = np.array([0, 0, 10]) # point from the truncated tip\n",
    "range_base = 8 # range base\n",
    "range_tip = 3 # range truncated tip\n",
    "X, Y, Z = truncated_cone(point_base, point_tip, range_base, range_tip)"
   ]
  },
  {
   "cell_type": "code",
   "execution_count": 7,
   "id": "20fe08b9-005b-4ad5-bfbf-6e0a7e07f09b",
   "metadata": {},
   "outputs": [
    {
     "data": {
      "image/png": "[encoded data removed]",
      "text/plain": [
       "<Figure size 432x288 with 1 Axes>"
      ]
     },
     "metadata": {
      "needs_background": "light"
     },
     "output_type": "display_data"
    }
   ],
   "source": [
    "plot_cone(X, Y, Z, wireframe=False, axis=True)"
   ]
  },
  {
   "cell_type": "code",
   "execution_count": 12,
   "id": "19c864a9-2232-442a-9752-9da6e29e4ef7",
   "metadata": {},
   "outputs": [
    {
     "data": {
      "image/png": "[encoded data removed]",
      "text/plain": [
       "<Figure size 432x288 with 1 Axes>"
      ]
     },
     "metadata": {
      "needs_background": "light"
     },
     "output_type": "display_data"
    }
   ],
   "source": [
    "generate_plot(np.array([0, 0, 0]), np.array([0, 0, 20]), 15, 5)"
   ]
  },
  {
   "cell_type": "markdown",
   "id": "3b721074-e76e-4f68-902a-d0d712e1e0a0",
   "metadata": {
    "tags": []
   },
   "source": [
    "### Cone Rotation"
   ]
  },
  {
   "cell_type": "markdown",
   "id": "9f9039c8-d65c-4f05-900a-47bec1843ebe",
   "metadata": {
    "tags": []
   },
   "source": [
    "#### Methods"
   ]
  },
  {
   "cell_type": "code",
   "execution_count": 13,
   "id": "cbc1198c-18f4-4377-9203-88653c42bd8a",
   "metadata": {},
   "outputs": [],
   "source": [
    "import math as m\n",
    "  \n",
    "def Rx(theta):\n",
    "    return np.matrix([[ 1, 0           , 0           ],\n",
    "                   [ 0, m.cos(theta),-m.sin(theta)],\n",
    "                   [ 0, m.sin(theta), m.cos(theta)]])\n",
    "  \n",
    "def Ry(theta):\n",
    "    return np.matrix([[ m.cos(theta), 0, m.sin(theta)],\n",
    "                   [ 0           , 1, 0           ],\n",
    "                   [-m.sin(theta), 0, m.cos(theta)]])\n",
    "  \n",
    "def Rz(theta):\n",
    "    return np.matrix([[ m.cos(theta), -m.sin(theta), 0 ],\n",
    "                   [ m.sin(theta), m.cos(theta) , 0 ],\n",
    "                   [ 0           , 0            , 1 ]])"
   ]
  },
  {
   "cell_type": "code",
   "execution_count": 14,
   "id": "5d0ea15d-3555-4103-a008-97121f0ed90c",
   "metadata": {},
   "outputs": [],
   "source": [
    "def rotate_tip(tip_coordinates, phi = m.pi/2, theta = m.pi/4, psi = m.pi/2):\n",
    "    tip_coordinates = tip_coordinates.reshape((3, 1))\n",
    "    R = Rz(psi) * Ry(theta) * Rz(phi)\n",
    "    rotated_tip = (R * tip_coordinates)\n",
    "    return np.array([rotated_tip.item(0),rotated_tip.item(1), rotated_tip.item(2)])"
   ]
  },
  {
   "cell_type": "code",
   "execution_count": 15,
   "id": "00f7e68d-bd7c-4cb5-b1bf-9c3398db583d",
   "metadata": {},
   "outputs": [],
   "source": [
    "def rotated_cone(point_base, point_tip, range_base, range_tip, phi = 0, theta = 0, psi = 0):\n",
    "    phi, theta, psi = m.radians(phi), m.radians(theta), m.radians(psi)   \n",
    "    rotated_tip = rotate_tip(point_tip, phi, theta, psi)\n",
    "    return truncated_cone(point_base, rotated_tip, range_base, range_tip)"
   ]
  },
  {
   "cell_type": "markdown",
   "id": "acaba61d-5fc1-4bc2-8019-aeacc8ba371e",
   "metadata": {},
   "source": [
    "#### Demo"
   ]
  },
  {
   "cell_type": "code",
   "execution_count": 17,
   "id": "979e9234-3999-4e13-8550-57a75143c2ce",
   "metadata": {},
   "outputs": [
    {
     "data": {
      "image/png": "[encoded data removed]",
      "text/plain": [
       "<Figure size 432x288 with 1 Axes>"
      ]
     },
     "metadata": {
      "needs_background": "light"
     },
     "output_type": "display_data"
    }
   ],
   "source": [
    "phi = 0     # x axis\n",
    "theta = 90 # 110   # y axis\n",
    "psi = 90     # z axis\n",
    "X_r, Y_r, Z_r = rotated_cone(point_base, point_tip, range_base, range_tip, phi, theta, psi)\n",
    "plot_cone(X_r, Y_r, Z_r, wireframe=False)"
   ]
  },
  {
   "cell_type": "markdown",
   "id": "913dc668-f506-4b0b-85fc-9b0c59b1c0f9",
   "metadata": {
    "tags": []
   },
   "source": [
    "### Cone Comparison"
   ]
  },
  {
   "cell_type": "code",
   "execution_count": 20,
   "id": "b9eeda5b-9e09-4a8b-816a-d591099dcc4c",
   "metadata": {},
   "outputs": [],
   "source": [
    "def compare_cones(X_a,Y_a,Z_a, X_b, Y_b, Z_b, wireframe = True, points=30, axis = False):\n",
    "    fig, axes = plt.subplots(1, 2, subplot_kw=dict(projection='3d'))\n",
    "\n",
    "    # cone 3d plot\n",
    "    if wireframe == True:\n",
    "        axes[0].plot_wireframe(X_a, Y_a, Z_a, rcount=points, ccount=points)\n",
    "        axes[1].plot_wireframe(X_b, Y_b, Z_b, rcount=points, ccount=points)\n",
    "    else: \n",
    "        axes[0].plot_surface(X_a, Y_a, Z_a, rcount=points, ccount=points)\n",
    "        axes[1].plot_surface(X_b, Y_b, Z_b, rcount=points, ccount=points)\n",
    "        \n",
    "    \n",
    "    if not axis:\n",
    "        axes[0].axis(\"off\")\n",
    "        axes[1].axis(\"off\")\n",
    "    else:\n",
    "        axes[0].set_xlabel(\"x\")\n",
    "        axes[0].set_ylabel(\"y\")\n",
    "        axes[0].set_zlabel(\"z\")\n",
    "        axes[1].set_xlabel(\"x\")\n",
    "        axes[1].set_ylabel(\"y\")\n",
    "        axes[1].set_zlabel(\"z\")\n",
    "    \n",
    "    axes[0].view_init(elev=10., azim=0)\n",
    "    axes[1].view_init(elev=10., azim=0)\n",
    "\n",
    "    plt.show()"
   ]
  },
  {
   "cell_type": "code",
   "execution_count": 21,
   "id": "e949f3b1-37a4-4048-bfba-e526d2851cab",
   "metadata": {},
   "outputs": [
    {
     "data": {
      "image/png": "[encoded data removed]",
      "text/plain": [
       "<Figure size 432x288 with 2 Axes>"
      ]
     },
     "metadata": {
      "needs_background": "light"
     },
     "output_type": "display_data"
    }
   ],
   "source": [
    "compare_cones(X, Y, Z, X_r, Y_r, Z_r, wireframe=False)"
   ]
  },
  {
   "cell_type": "code",
   "execution_count": null,
   "id": "20658b0b-e814-4c89-afe3-ea011204affe",
   "metadata": {},
   "outputs": [],
   "source": []
  }
 ],
 "metadata": {
  "kernelspec": {
   "display_name": "Python 3 (ipykernel)",
   "language": "python",
   "name": "python3"
  },
  "language_info": {
   "codemirror_mode": {
    "name": "ipython",
    "version": 3
   },
   "file_extension": ".py",
   "mimetype": "text/x-python",
   "name": "python",
   "nbconvert_exporter": "python",
   "pygments_lexer": "ipython3",
   "version": "3.8.3"
  }
 },
 "nbformat": 4,
 "nbformat_minor": 5
}
